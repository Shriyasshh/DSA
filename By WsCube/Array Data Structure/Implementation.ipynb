{
 "cells": [
  {
   "cell_type": "code",
   "execution_count": null,
   "id": "750524f7",
   "metadata": {},
   "outputs": [],
   "source": [
    "import array as arr"
   ]
  },
  {
   "cell_type": "code",
   "execution_count": null,
   "id": "af34ac74",
   "metadata": {},
   "outputs": [],
   "source": [
    "A=arr.array('i',[1,2,3,4,5])"
   ]
  },
  {
   "cell_type": "code",
   "execution_count": null,
   "id": "905028d1",
   "metadata": {},
   "outputs": [],
   "source": [
    "a=arr.array('i')  \n",
    "# empty array\n",
    "# Or\n",
    "# a=arr.array('i',[])\n",
    "# Or\n",
    "# a=arr.array('i',list())"
   ]
  },
  {
   "cell_type": "code",
   "execution_count": null,
   "id": "77901b58",
   "metadata": {},
   "outputs": [],
   "source": [
    "print(type(a))"
   ]
  },
  {
   "cell_type": "code",
   "execution_count": null,
   "id": "3eff098a",
   "metadata": {},
   "outputs": [],
   "source": [
    "a.append(14)"
   ]
  },
  {
   "cell_type": "code",
   "execution_count": null,
   "id": "327988ef",
   "metadata": {},
   "outputs": [],
   "source": [
    "print(a[0])"
   ]
  },
  {
   "cell_type": "code",
   "execution_count": null,
   "id": "a0ce1123",
   "metadata": {},
   "outputs": [],
   "source": [
    "print(a)"
   ]
  },
  {
   "cell_type": "code",
   "execution_count": null,
   "id": "808437c0",
   "metadata": {},
   "outputs": [],
   "source": [
    "b=arr.array('i',[12,23,45,56,77,88])\n",
    "print(b[2])"
   ]
  },
  {
   "cell_type": "code",
   "execution_count": null,
   "id": "d90b429b",
   "metadata": {},
   "outputs": [],
   "source": [
    "# Ananomyous array\n",
    "print(arr.array('i',[1,2,3,4,5])[3])\n"
   ]
  },
  {
   "cell_type": "code",
   "execution_count": null,
   "id": "7adc6f3e",
   "metadata": {},
   "outputs": [
    {
     "name": "stdout",
     "output_type": "stream",
     "text": [
      "array('i', [34, 37, 56, 12, 46])\n"
     ]
    }
   ],
   "source": [
    "# c=arr.array('i',(12,34,56,46,37))   #tuple\n",
    "# Or\n",
    "c=arr.array('i',{12,34,56,46,37})    #set but no sequence\n",
    "print(c)"
   ]
  }
 ],
 "metadata": {
  "kernelspec": {
   "display_name": "Python 3",
   "language": "python",
   "name": "python3"
  },
  "language_info": {
   "codemirror_mode": {
    "name": "ipython",
    "version": 3
   },
   "file_extension": ".py",
   "mimetype": "text/x-python",
   "name": "python",
   "nbconvert_exporter": "python",
   "pygments_lexer": "ipython3",
   "version": "3.12.7"
  }
 },
 "nbformat": 4,
 "nbformat_minor": 5
}
