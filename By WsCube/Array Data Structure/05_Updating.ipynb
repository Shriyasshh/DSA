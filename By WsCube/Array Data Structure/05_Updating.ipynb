{
 "cells": [
  {
   "cell_type": "code",
   "execution_count": null,
   "id": "e2da3657",
   "metadata": {},
   "outputs": [],
   "source": [
    "import array as arr"
   ]
  },
  {
   "cell_type": "code",
   "execution_count": null,
   "id": "3dfb8792",
   "metadata": {},
   "outputs": [],
   "source": [
    "a=arr.array('i', [1, 2, 3, 4, 5,6,7,8,9,10])"
   ]
  },
  {
   "cell_type": "code",
   "execution_count": null,
   "id": "f3ce0667",
   "metadata": {},
   "outputs": [],
   "source": [
    "a[:]"
   ]
  },
  {
   "cell_type": "code",
   "execution_count": null,
   "id": "c7396516",
   "metadata": {},
   "outputs": [],
   "source": [
    "a[2]"
   ]
  },
  {
   "cell_type": "markdown",
   "id": "8e075691",
   "metadata": {},
   "source": [
    "# Single Element Update"
   ]
  },
  {
   "cell_type": "code",
   "execution_count": null,
   "id": "45a79901",
   "metadata": {},
   "outputs": [],
   "source": [
    "a[2]=17"
   ]
  },
  {
   "cell_type": "code",
   "execution_count": null,
   "id": "495b6bf9",
   "metadata": {},
   "outputs": [],
   "source": [
    "a[:]"
   ]
  },
  {
   "cell_type": "code",
   "execution_count": null,
   "id": "95247c05",
   "metadata": {},
   "outputs": [],
   "source": [
    "a[1:4]"
   ]
  },
  {
   "cell_type": "markdown",
   "id": "dc943b01",
   "metadata": {},
   "source": [
    "# Multiple Element Update"
   ]
  },
  {
   "cell_type": "code",
   "execution_count": null,
   "id": "d036a701",
   "metadata": {},
   "outputs": [],
   "source": [
    "a[1:4]=arr.array('i', [22,33,44])\n"
   ]
  },
  {
   "cell_type": "code",
   "execution_count": null,
   "id": "bb6a48fc",
   "metadata": {},
   "outputs": [],
   "source": [
    "a[:]"
   ]
  }
 ],
 "metadata": {
  "kernelspec": {
   "display_name": "Python 3",
   "language": "python",
   "name": "python3"
  },
  "language_info": {
   "codemirror_mode": {
    "name": "ipython",
    "version": 3
   },
   "file_extension": ".py",
   "mimetype": "text/x-python",
   "name": "python",
   "nbconvert_exporter": "python",
   "pygments_lexer": "ipython3",
   "version": "3.12.7"
  }
 },
 "nbformat": 4,
 "nbformat_minor": 5
}
