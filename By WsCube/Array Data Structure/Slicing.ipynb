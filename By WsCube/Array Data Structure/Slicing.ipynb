{
 "cells": [
  {
   "cell_type": "markdown",
   "id": "f683a3cf",
   "metadata": {},
   "source": [
    "# Slicing Constructor"
   ]
  },
  {
   "cell_type": "code",
   "execution_count": null,
   "id": "36bfb158",
   "metadata": {},
   "outputs": [],
   "source": [
    "import array as arr\n",
    "\n",
    "a = arr.array('i', [1, 2, 3, 4, 5])\n",
    "\n",
    "s1=slice(4)\n",
    "print(a[s1])\n",
    "\n",
    "s2=slice(1,4)\n",
    "print(a[s2])\n",
    "\n",
    "s3=slice(1,4,2)\n",
    "print(a[s3])"
   ]
  },
  {
   "cell_type": "markdown",
   "id": "a5f0f931",
   "metadata": {},
   "source": [
    "# Slicing Notation"
   ]
  },
  {
   "cell_type": "code",
   "execution_count": 5,
   "id": "adee0074",
   "metadata": {},
   "outputs": [
    {
     "name": "stdout",
     "output_type": "stream",
     "text": [
      "array('i', [1, 2, 3, 4, 5])\n",
      "array('i', [1, 2, 3, 4])\n",
      "array('i', [3, 4, 5])\n",
      "array('i', [3, 4])\n",
      "array('i', [1, 3, 5])\n",
      "array('i', [5, 4, 3, 2, 1])\n"
     ]
    }
   ],
   "source": [
    "import array as arr\n",
    "\n",
    "a = arr.array('i', [1, 2, 3, 4, 5])\n",
    "\n",
    "print(a[:])\n",
    "print(a[:4])\n",
    "print(a[2:])\n",
    "print(a[2:4])\n",
    "print(a[::2])\n",
    "print(a[::-1])"
   ]
  }
 ],
 "metadata": {
  "kernelspec": {
   "display_name": "Python 3",
   "language": "python",
   "name": "python3"
  },
  "language_info": {
   "codemirror_mode": {
    "name": "ipython",
    "version": 3
   },
   "file_extension": ".py",
   "mimetype": "text/x-python",
   "name": "python",
   "nbconvert_exporter": "python",
   "pygments_lexer": "ipython3",
   "version": "3.12.7"
  }
 },
 "nbformat": 4,
 "nbformat_minor": 5
}
