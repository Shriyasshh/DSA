{
 "cells": [
  {
   "cell_type": "code",
   "execution_count": 1,
   "id": "63ec6109",
   "metadata": {},
   "outputs": [
    {
     "name": "stdout",
     "output_type": "stream",
     "text": [
      "11\n",
      "12\n",
      "13\n",
      "14\n",
      "15\n"
     ]
    }
   ],
   "source": [
    "import array as arr\n",
    "a=arr.array('i',[11,12,13,14,15])\n",
    "# print(a[3])\n",
    "# print(a[-2])\n",
    "\n",
    "for i in range(0,len(a)):\n",
    "    print(a[i])\n",
    "    # print(a[i],end=\" \")\n",
    "\n"
   ]
  },
  {
   "cell_type": "code",
   "execution_count": 2,
   "id": "b9cd627d",
   "metadata": {},
   "outputs": [
    {
     "name": "stdout",
     "output_type": "stream",
     "text": [
      "23.6 ns ± 0.961 ns per loop (mean ± std. dev. of 7 runs, 10,000,000 loops each)\n"
     ]
    }
   ],
   "source": [
    "import array as arr\n",
    "a=arr.array('i',[11,12,13,14,15])\n",
    "\n",
    "%timeit a[-2]\n"
   ]
  },
  {
   "cell_type": "code",
   "execution_count": 3,
   "id": "d101ad7b",
   "metadata": {},
   "outputs": [
    {
     "name": "stdout",
     "output_type": "stream",
     "text": [
      "15 14 13 12 11 "
     ]
    }
   ],
   "source": [
    "import array as arr\n",
    "a=arr.array('i',[11,12,13,14,15])\n",
    "\n",
    "\n",
    "for i in range(-1,-len(a)-1,-1):\n",
    "    print(a[i],end=\" \")\n"
   ]
  },
  {
   "cell_type": "code",
   "execution_count": 4,
   "id": "d3683fe3",
   "metadata": {},
   "outputs": [
    {
     "name": "stdout",
     "output_type": "stream",
     "text": [
      "11 12 13 14 15 "
     ]
    }
   ],
   "source": [
    "import array as arr\n",
    "a=arr.array('i',[11,12,13,14,15])\n",
    "\n",
    "\n",
    "for i in range(-len(a),0,1):\n",
    "    print(a[i],end=\" \")\n"
   ]
  }
 ],
 "metadata": {
  "kernelspec": {
   "display_name": "Python 3",
   "language": "python",
   "name": "python3"
  },
  "language_info": {
   "codemirror_mode": {
    "name": "ipython",
    "version": 3
   },
   "file_extension": ".py",
   "mimetype": "text/x-python",
   "name": "python",
   "nbconvert_exporter": "python",
   "pygments_lexer": "ipython3",
   "version": "3.12.7"
  }
 },
 "nbformat": 4,
 "nbformat_minor": 5
}
