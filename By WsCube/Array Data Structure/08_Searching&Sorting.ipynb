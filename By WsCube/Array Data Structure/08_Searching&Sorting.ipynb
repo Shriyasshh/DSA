{
 "cells": [
  {
   "cell_type": "code",
   "execution_count": 19,
   "id": "c8ea2a22",
   "metadata": {},
   "outputs": [],
   "source": [
    "import array as arr"
   ]
  },
  {
   "cell_type": "code",
   "execution_count": 20,
   "id": "66c57ce4",
   "metadata": {},
   "outputs": [],
   "source": [
    "a=arr.array('i', [1, 2, 3, 4, 5])"
   ]
  },
  {
   "cell_type": "code",
   "execution_count": 21,
   "id": "c9691609",
   "metadata": {},
   "outputs": [
    {
     "data": {
      "text/plain": [
       "array('i', [1, 2, 3, 4, 5])"
      ]
     },
     "execution_count": 21,
     "metadata": {},
     "output_type": "execute_result"
    }
   ],
   "source": [
    "a[:]"
   ]
  },
  {
   "cell_type": "code",
   "execution_count": 22,
   "id": "331df824",
   "metadata": {},
   "outputs": [],
   "source": [
    "item=3"
   ]
  },
  {
   "cell_type": "code",
   "execution_count": 23,
   "id": "5541d7d6",
   "metadata": {},
   "outputs": [],
   "source": [
    "position=a.index(item)+1"
   ]
  },
  {
   "cell_type": "code",
   "execution_count": 24,
   "id": "a877e522",
   "metadata": {},
   "outputs": [
    {
     "name": "stdout",
     "output_type": "stream",
     "text": [
      "3\n"
     ]
    }
   ],
   "source": [
    "print(position)"
   ]
  },
  {
   "cell_type": "code",
   "execution_count": 25,
   "id": "b7213c66",
   "metadata": {},
   "outputs": [],
   "source": [
    "b=arr.array('i', [11, 12, 13, 14, 15,13,14,11,15,12,13])"
   ]
  },
  {
   "cell_type": "code",
   "execution_count": 26,
   "id": "53c1a4b9",
   "metadata": {},
   "outputs": [],
   "source": [
    "item=13"
   ]
  },
  {
   "cell_type": "code",
   "execution_count": 27,
   "id": "bca00089",
   "metadata": {},
   "outputs": [
    {
     "name": "stdout",
     "output_type": "stream",
     "text": [
      "3\n"
     ]
    }
   ],
   "source": [
    "pos=b.index(item) +1\n",
    "print(pos)"
   ]
  },
  {
   "cell_type": "code",
   "execution_count": 28,
   "id": "90eb95f9",
   "metadata": {},
   "outputs": [
    {
     "data": {
      "text/plain": [
       "array('i', [14, 15, 13, 14])"
      ]
     },
     "execution_count": 28,
     "metadata": {},
     "output_type": "execute_result"
    }
   ],
   "source": [
    "b[3:7]"
   ]
  },
  {
   "cell_type": "code",
   "execution_count": 29,
   "id": "0271ad10",
   "metadata": {},
   "outputs": [
    {
     "data": {
      "text/plain": [
       "2"
      ]
     },
     "execution_count": 29,
     "metadata": {},
     "output_type": "execute_result"
    }
   ],
   "source": [
    "b[3:7].index(item)"
   ]
  },
  {
   "cell_type": "code",
   "execution_count": 30,
   "id": "680c438d",
   "metadata": {},
   "outputs": [],
   "source": [
    "c=b[3:7]"
   ]
  },
  {
   "cell_type": "code",
   "execution_count": 31,
   "id": "a7297c65",
   "metadata": {},
   "outputs": [],
   "source": [
    "c[2]=13032"
   ]
  }
 ],
 "metadata": {
  "kernelspec": {
   "display_name": "Python 3",
   "language": "python",
   "name": "python3"
  },
  "language_info": {
   "codemirror_mode": {
    "name": "ipython",
    "version": 3
   },
   "file_extension": ".py",
   "mimetype": "text/x-python",
   "name": "python",
   "nbconvert_exporter": "python",
   "pygments_lexer": "ipython3",
   "version": "3.12.7"
  }
 },
 "nbformat": 4,
 "nbformat_minor": 5
}
