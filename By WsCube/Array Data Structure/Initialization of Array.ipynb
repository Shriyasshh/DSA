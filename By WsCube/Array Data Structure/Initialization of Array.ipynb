{
 "cells": [
  {
   "cell_type": "markdown",
   "id": "e81d7e2a",
   "metadata": {},
   "source": [
    "#Initialization of Array"
   ]
  },
  {
   "cell_type": "code",
   "execution_count": null,
   "id": "b69e5423",
   "metadata": {},
   "outputs": [],
   "source": [
    "import array as arr"
   ]
  },
  {
   "cell_type": "code",
   "execution_count": null,
   "id": "f623291c",
   "metadata": {},
   "outputs": [],
   "source": [
    "A=arr.array('i',[1,2,3,4,5])"
   ]
  },
  {
   "cell_type": "code",
   "execution_count": null,
   "id": "26b25509",
   "metadata": {},
   "outputs": [],
   "source": [
    "print(A[0])"
   ]
  },
  {
   "cell_type": "code",
   "execution_count": null,
   "id": "3e8a140c",
   "metadata": {},
   "outputs": [],
   "source": [
    "print(A[4])"
   ]
  },
  {
   "cell_type": "code",
   "execution_count": null,
   "id": "4e748615",
   "metadata": {},
   "outputs": [],
   "source": [
    "print(A[-5])"
   ]
  },
  {
   "cell_type": "code",
   "execution_count": null,
   "id": "5b24cb7e",
   "metadata": {},
   "outputs": [],
   "source": [
    "print(A[-1])"
   ]
  },
  {
   "cell_type": "code",
   "execution_count": 58,
   "id": "828ced47",
   "metadata": {},
   "outputs": [],
   "source": [
    "b=arr.array('f',[1.1,2,3,4,5,6,7,8,9])"
   ]
  },
  {
   "cell_type": "code",
   "execution_count": 59,
   "id": "9adb41b0",
   "metadata": {},
   "outputs": [
    {
     "name": "stdout",
     "output_type": "stream",
     "text": [
      "1.100000023841858\n"
     ]
    }
   ],
   "source": [
    "print(b[0])"
   ]
  }
 ],
 "metadata": {
  "kernelspec": {
   "display_name": "Python 3",
   "language": "python",
   "name": "python3"
  },
  "language_info": {
   "codemirror_mode": {
    "name": "ipython",
    "version": 3
   },
   "file_extension": ".py",
   "mimetype": "text/x-python",
   "name": "python",
   "nbconvert_exporter": "python",
   "pygments_lexer": "ipython3",
   "version": "3.12.7"
  }
 },
 "nbformat": 4,
 "nbformat_minor": 5
}
